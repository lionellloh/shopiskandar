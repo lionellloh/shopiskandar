{
 "cells": [
  {
   "cell_type": "code",
   "execution_count": 87,
   "metadata": {},
   "outputs": [],
   "source": [
    "ACCESS_KEY = \"8f9fe27e5d447ef463b3\"\n",
    "SECRET_KEY = \"90295238c5cd69713570f021d204bb2bbcba130e\"\n",
    "\n",
    "FASHION_API = \"https://fashion.recoqnitics.com/analyze\"\n",
    "FACE_API = \"https://face.recoqnitics.com/analyze\"\n",
    "\n",
    "data = {'access_key': ACCESS_KEY,'secret_key': SECRET_KEY}\n",
    "\n",
    "import matplotlib.pyplot as plt"
   ]
  },
  {
   "cell_type": "code",
   "execution_count": 88,
   "metadata": {},
   "outputs": [],
   "source": [
    "import pandas as pd\n",
    "import requests\n",
    "import json\n",
    "import ast "
   ]
  },
  {
   "cell_type": "code",
   "execution_count": 89,
   "metadata": {},
   "outputs": [],
   "source": [
    "def post_fashion(filename):\n",
    "    # filename = {'filename': open(\"test_images/bryan.jpeg\", 'rb')}\n",
    "    filename = {'filename': open(\"../test_images/{}\".format(filename), 'rb')}\n",
    "    r = requests.post(FASHION_API, files=filename, data=data)\n",
    "    content = json.loads(r.content)\n",
    "    return content"
   ]
  },
  {
   "cell_type": "code",
   "execution_count": 90,
   "metadata": {},
   "outputs": [],
   "source": [
    "df = pd.read_csv(\"fashion.csv\", names = [\"URL\", \"Style\", \"Colour\"])"
   ]
  },
  {
   "cell_type": "code",
   "execution_count": 91,
   "metadata": {},
   "outputs": [
    {
     "name": "stdout",
     "output_type": "stream",
     "text": [
      "<class 'pandas.core.frame.DataFrame'>\n",
      "RangeIndex: 21 entries, 0 to 20\n",
      "Data columns (total 3 columns):\n",
      "URL       21 non-null object\n",
      "Style     21 non-null object\n",
      "Colour    21 non-null object\n",
      "dtypes: object(3)\n",
      "memory usage: 584.0+ bytes\n",
      "None\n"
     ]
    },
    {
     "data": {
      "text/html": [
       "<div>\n",
       "<style scoped>\n",
       "    .dataframe tbody tr th:only-of-type {\n",
       "        vertical-align: middle;\n",
       "    }\n",
       "\n",
       "    .dataframe tbody tr th {\n",
       "        vertical-align: top;\n",
       "    }\n",
       "\n",
       "    .dataframe thead th {\n",
       "        text-align: right;\n",
       "    }\n",
       "</style>\n",
       "<table border=\"1\" class=\"dataframe\">\n",
       "  <thead>\n",
       "    <tr style=\"text-align: right;\">\n",
       "      <th></th>\n",
       "      <th>URL</th>\n",
       "      <th>Style</th>\n",
       "      <th>Colour</th>\n",
       "    </tr>\n",
       "  </thead>\n",
       "  <tbody>\n",
       "    <tr>\n",
       "      <th>0</th>\n",
       "      <td>https://shop.iskandar.ml/IMAGES/fashion_1.jpg</td>\n",
       "      <td>[Sexy, Elegant, 90s]</td>\n",
       "      <td>[Grey, Yellow]</td>\n",
       "    </tr>\n",
       "    <tr>\n",
       "      <th>1</th>\n",
       "      <td>https://shop.iskandar.ml/IMAGES/fashion_2.jpg</td>\n",
       "      <td>[Sexy, Elegant, Business]</td>\n",
       "      <td>[Grey, Brown, Brown]</td>\n",
       "    </tr>\n",
       "    <tr>\n",
       "      <th>2</th>\n",
       "      <td>https://shop.iskandar.ml/IMAGES/fashion_3.jpg</td>\n",
       "      <td>[Sexy, 90s, Outdoor]</td>\n",
       "      <td>[Grey, Blue, Grey]</td>\n",
       "    </tr>\n",
       "    <tr>\n",
       "      <th>3</th>\n",
       "      <td>https://shop.iskandar.ml/IMAGES/fashion_4.jpg</td>\n",
       "      <td>[Sexy, 90s, Elegant]</td>\n",
       "      <td>[Black, Grey, Brown]</td>\n",
       "    </tr>\n",
       "    <tr>\n",
       "      <th>4</th>\n",
       "      <td>https://shop.iskandar.ml/IMAGES/fashion_5.jpg</td>\n",
       "      <td>[Sexy, Elegant, 90s]</td>\n",
       "      <td>[Brown, Brown, Brown]</td>\n",
       "    </tr>\n",
       "  </tbody>\n",
       "</table>\n",
       "</div>"
      ],
      "text/plain": [
       "                                             URL                      Style  \\\n",
       "0  https://shop.iskandar.ml/IMAGES/fashion_1.jpg       [Sexy, Elegant, 90s]   \n",
       "1  https://shop.iskandar.ml/IMAGES/fashion_2.jpg  [Sexy, Elegant, Business]   \n",
       "2  https://shop.iskandar.ml/IMAGES/fashion_3.jpg       [Sexy, 90s, Outdoor]   \n",
       "3  https://shop.iskandar.ml/IMAGES/fashion_4.jpg       [Sexy, 90s, Elegant]   \n",
       "4  https://shop.iskandar.ml/IMAGES/fashion_5.jpg       [Sexy, Elegant, 90s]   \n",
       "\n",
       "                  Colour  \n",
       "0         [Grey, Yellow]  \n",
       "1   [Grey, Brown, Brown]  \n",
       "2     [Grey, Blue, Grey]  \n",
       "3   [Black, Grey, Brown]  \n",
       "4  [Brown, Brown, Brown]  "
      ]
     },
     "execution_count": 91,
     "metadata": {},
     "output_type": "execute_result"
    }
   ],
   "source": [
    "print(df.info())\n",
    "df[\"Style\"] = df.Style.apply(lambda x: ast.literal_eval(x))\n",
    "df[\"Colour\"] = df.Colour.apply(lambda x: ast.literal_eval(x))\n",
    "df.head()"
   ]
  },
  {
   "cell_type": "code",
   "execution_count": 102,
   "metadata": {},
   "outputs": [],
   "source": [
    "fashion_result = post_fashion(\"bryan.jpeg\")"
   ]
  },
  {
   "cell_type": "code",
   "execution_count": 93,
   "metadata": {},
   "outputs": [],
   "source": [
    "def compute_match_score(library, article): \n",
    "    print(library)\n",
    "    return len(set(library) & set(article))\n",
    "    "
   ]
  },
  {
   "cell_type": "code",
   "execution_count": 94,
   "metadata": {},
   "outputs": [
    {
     "data": {
      "text/plain": [
       "2"
      ]
     },
     "execution_count": 94,
     "metadata": {},
     "output_type": "execute_result"
    }
   ],
   "source": [
    "len(set([1,2,3]) & set([2,4,1]))"
   ]
  },
  {
   "cell_type": "code",
   "execution_count": 97,
   "metadata": {},
   "outputs": [
    {
     "name": "stdout",
     "output_type": "stream",
     "text": [
      "['Sexy', 'Elegant', '90s']\n",
      "['Sexy', 'Elegant', 'Business']\n",
      "['Sexy', '90s', 'Outdoor']\n",
      "['Sexy', '90s', 'Elegant']\n",
      "['Sexy', 'Elegant', '90s']\n",
      "['Sexy', 'Elegant', '90s']\n",
      "['Sexy', '90s', 'Elegant']\n",
      "['Romantic', 'Vintage', 'Elegant']\n",
      "['Sexy', 'Elegant', 'Outdoor']\n",
      "['Sexy', 'Elegant', 'Business']\n",
      "['Sexy', 'Elegant', 'Outdoor']\n",
      "['Sexy', 'Elegant', 'Romantic']\n",
      "['Sexy', 'Casual', 'Elegant']\n",
      "['Sexy', '90s', 'Elegant']\n",
      "['Sexy', 'Elegant', 'Outdoor']\n",
      "['Sexy', '90s', 'Business']\n",
      "['Elegant', 'Sexy', 'Business']\n",
      "['Sexy', '90s', 'Elegant']\n",
      "['Sexy', 'Elegant', 'Outdoor']\n",
      "['Sexy', 'Elegant', 'Romantic']\n",
      "['90s', 'Vintage', 'Casual']\n"
     ]
    }
   ],
   "source": [
    "df[\"match_score\"] = df.Style.apply(lambda x: compute_match_score((x), ['Sexy', 'Vintage', 'Romantic']))"
   ]
  },
  {
   "cell_type": "code",
   "execution_count": 98,
   "metadata": {},
   "outputs": [
    {
     "data": {
      "text/html": [
       "<div>\n",
       "<style scoped>\n",
       "    .dataframe tbody tr th:only-of-type {\n",
       "        vertical-align: middle;\n",
       "    }\n",
       "\n",
       "    .dataframe tbody tr th {\n",
       "        vertical-align: top;\n",
       "    }\n",
       "\n",
       "    .dataframe thead th {\n",
       "        text-align: right;\n",
       "    }\n",
       "</style>\n",
       "<table border=\"1\" class=\"dataframe\">\n",
       "  <thead>\n",
       "    <tr style=\"text-align: right;\">\n",
       "      <th></th>\n",
       "      <th>URL</th>\n",
       "      <th>Style</th>\n",
       "      <th>Colour</th>\n",
       "      <th>match_score</th>\n",
       "    </tr>\n",
       "  </thead>\n",
       "  <tbody>\n",
       "    <tr>\n",
       "      <th>0</th>\n",
       "      <td>https://shop.iskandar.ml/IMAGES/fashion_1.jpg</td>\n",
       "      <td>[Sexy, Elegant, 90s]</td>\n",
       "      <td>[Grey, Yellow]</td>\n",
       "      <td>1</td>\n",
       "    </tr>\n",
       "    <tr>\n",
       "      <th>1</th>\n",
       "      <td>https://shop.iskandar.ml/IMAGES/fashion_2.jpg</td>\n",
       "      <td>[Sexy, Elegant, Business]</td>\n",
       "      <td>[Grey, Brown, Brown]</td>\n",
       "      <td>1</td>\n",
       "    </tr>\n",
       "    <tr>\n",
       "      <th>2</th>\n",
       "      <td>https://shop.iskandar.ml/IMAGES/fashion_3.jpg</td>\n",
       "      <td>[Sexy, 90s, Outdoor]</td>\n",
       "      <td>[Grey, Blue, Grey]</td>\n",
       "      <td>1</td>\n",
       "    </tr>\n",
       "    <tr>\n",
       "      <th>3</th>\n",
       "      <td>https://shop.iskandar.ml/IMAGES/fashion_4.jpg</td>\n",
       "      <td>[Sexy, 90s, Elegant]</td>\n",
       "      <td>[Black, Grey, Brown]</td>\n",
       "      <td>1</td>\n",
       "    </tr>\n",
       "    <tr>\n",
       "      <th>4</th>\n",
       "      <td>https://shop.iskandar.ml/IMAGES/fashion_5.jpg</td>\n",
       "      <td>[Sexy, Elegant, 90s]</td>\n",
       "      <td>[Brown, Brown, Brown]</td>\n",
       "      <td>1</td>\n",
       "    </tr>\n",
       "    <tr>\n",
       "      <th>5</th>\n",
       "      <td>https://shop.iskandar.ml/IMAGES/fashion_6.jpg</td>\n",
       "      <td>[Sexy, Elegant, 90s]</td>\n",
       "      <td>[Black]</td>\n",
       "      <td>1</td>\n",
       "    </tr>\n",
       "    <tr>\n",
       "      <th>6</th>\n",
       "      <td>https://shop.iskandar.ml/IMAGES/fashion_7.jpg</td>\n",
       "      <td>[Sexy, 90s, Elegant]</td>\n",
       "      <td>[Red, Red]</td>\n",
       "      <td>1</td>\n",
       "    </tr>\n",
       "    <tr>\n",
       "      <th>7</th>\n",
       "      <td>https://shop.iskandar.ml/IMAGES/fashion_8.jpg</td>\n",
       "      <td>[Romantic, Vintage, Elegant]</td>\n",
       "      <td>[Grey, Yellow, Brown]</td>\n",
       "      <td>2</td>\n",
       "    </tr>\n",
       "    <tr>\n",
       "      <th>8</th>\n",
       "      <td>https://shop.iskandar.ml/IMAGES/fashion_9.jpg</td>\n",
       "      <td>[Sexy, Elegant, Outdoor]</td>\n",
       "      <td>[Blue, Brown, Grey]</td>\n",
       "      <td>1</td>\n",
       "    </tr>\n",
       "    <tr>\n",
       "      <th>9</th>\n",
       "      <td>https://shop.iskandar.ml/IMAGES/fashion_10.jpg</td>\n",
       "      <td>[Sexy, Elegant, Business]</td>\n",
       "      <td>[Brown, Brown, Brown, White]</td>\n",
       "      <td>1</td>\n",
       "    </tr>\n",
       "    <tr>\n",
       "      <th>10</th>\n",
       "      <td>https://shop.iskandar.ml/IMAGES/fashion_11.jpg</td>\n",
       "      <td>[Sexy, Elegant, Outdoor]</td>\n",
       "      <td>[Magenta, Brown, Magenta]</td>\n",
       "      <td>1</td>\n",
       "    </tr>\n",
       "    <tr>\n",
       "      <th>11</th>\n",
       "      <td>https://shop.iskandar.ml/IMAGES/fashion_12.jpg</td>\n",
       "      <td>[Sexy, Elegant, Romantic]</td>\n",
       "      <td>[Grey, Brown, White]</td>\n",
       "      <td>2</td>\n",
       "    </tr>\n",
       "    <tr>\n",
       "      <th>12</th>\n",
       "      <td>https://shop.iskandar.ml/IMAGES/fashion_13.jpg</td>\n",
       "      <td>[Sexy, Casual, Elegant]</td>\n",
       "      <td>[Brown, Brown]</td>\n",
       "      <td>1</td>\n",
       "    </tr>\n",
       "    <tr>\n",
       "      <th>13</th>\n",
       "      <td>https://shop.iskandar.ml/IMAGES/fashion_14.jpg</td>\n",
       "      <td>[Sexy, 90s, Elegant]</td>\n",
       "      <td>[Grey, Grey, Grey]</td>\n",
       "      <td>1</td>\n",
       "    </tr>\n",
       "    <tr>\n",
       "      <th>14</th>\n",
       "      <td>https://shop.iskandar.ml/IMAGES/fashion_15.jpg</td>\n",
       "      <td>[Sexy, Elegant, Outdoor]</td>\n",
       "      <td>[Brown, Magenta, Red]</td>\n",
       "      <td>1</td>\n",
       "    </tr>\n",
       "    <tr>\n",
       "      <th>15</th>\n",
       "      <td>https://shop.iskandar.ml/IMAGES/fashion_16.jpg</td>\n",
       "      <td>[Sexy, 90s, Business]</td>\n",
       "      <td>[Magenta, Magenta]</td>\n",
       "      <td>1</td>\n",
       "    </tr>\n",
       "    <tr>\n",
       "      <th>16</th>\n",
       "      <td>https://shop.iskandar.ml/IMAGES/fashion_17.jpg</td>\n",
       "      <td>[Elegant, Sexy, Business]</td>\n",
       "      <td>[Grey, Black]</td>\n",
       "      <td>1</td>\n",
       "    </tr>\n",
       "    <tr>\n",
       "      <th>17</th>\n",
       "      <td>https://shop.iskandar.ml/IMAGES/fashion_18.jpg</td>\n",
       "      <td>[Sexy, 90s, Elegant]</td>\n",
       "      <td>[Black, Black]</td>\n",
       "      <td>1</td>\n",
       "    </tr>\n",
       "    <tr>\n",
       "      <th>18</th>\n",
       "      <td>https://shop.iskandar.ml/IMAGES/fashion_19.jpg</td>\n",
       "      <td>[Sexy, Elegant, Outdoor]</td>\n",
       "      <td>[Brown, Blue, Blue]</td>\n",
       "      <td>1</td>\n",
       "    </tr>\n",
       "    <tr>\n",
       "      <th>19</th>\n",
       "      <td>https://shop.iskandar.ml/IMAGES/fashion_20.jpg</td>\n",
       "      <td>[Sexy, Elegant, Romantic]</td>\n",
       "      <td>[Black, Brown, Red]</td>\n",
       "      <td>2</td>\n",
       "    </tr>\n",
       "    <tr>\n",
       "      <th>20</th>\n",
       "      <td>https://shop.iskandar.ml/IMAGES/fashion_21.jpg</td>\n",
       "      <td>[90s, Vintage, Casual]</td>\n",
       "      <td>[Brown, Brown]</td>\n",
       "      <td>1</td>\n",
       "    </tr>\n",
       "  </tbody>\n",
       "</table>\n",
       "</div>"
      ],
      "text/plain": [
       "                                               URL  \\\n",
       "0    https://shop.iskandar.ml/IMAGES/fashion_1.jpg   \n",
       "1    https://shop.iskandar.ml/IMAGES/fashion_2.jpg   \n",
       "2    https://shop.iskandar.ml/IMAGES/fashion_3.jpg   \n",
       "3    https://shop.iskandar.ml/IMAGES/fashion_4.jpg   \n",
       "4    https://shop.iskandar.ml/IMAGES/fashion_5.jpg   \n",
       "5    https://shop.iskandar.ml/IMAGES/fashion_6.jpg   \n",
       "6    https://shop.iskandar.ml/IMAGES/fashion_7.jpg   \n",
       "7    https://shop.iskandar.ml/IMAGES/fashion_8.jpg   \n",
       "8    https://shop.iskandar.ml/IMAGES/fashion_9.jpg   \n",
       "9   https://shop.iskandar.ml/IMAGES/fashion_10.jpg   \n",
       "10  https://shop.iskandar.ml/IMAGES/fashion_11.jpg   \n",
       "11  https://shop.iskandar.ml/IMAGES/fashion_12.jpg   \n",
       "12  https://shop.iskandar.ml/IMAGES/fashion_13.jpg   \n",
       "13  https://shop.iskandar.ml/IMAGES/fashion_14.jpg   \n",
       "14  https://shop.iskandar.ml/IMAGES/fashion_15.jpg   \n",
       "15  https://shop.iskandar.ml/IMAGES/fashion_16.jpg   \n",
       "16  https://shop.iskandar.ml/IMAGES/fashion_17.jpg   \n",
       "17  https://shop.iskandar.ml/IMAGES/fashion_18.jpg   \n",
       "18  https://shop.iskandar.ml/IMAGES/fashion_19.jpg   \n",
       "19  https://shop.iskandar.ml/IMAGES/fashion_20.jpg   \n",
       "20  https://shop.iskandar.ml/IMAGES/fashion_21.jpg   \n",
       "\n",
       "                           Style                        Colour  match_score  \n",
       "0           [Sexy, Elegant, 90s]                [Grey, Yellow]            1  \n",
       "1      [Sexy, Elegant, Business]          [Grey, Brown, Brown]            1  \n",
       "2           [Sexy, 90s, Outdoor]            [Grey, Blue, Grey]            1  \n",
       "3           [Sexy, 90s, Elegant]          [Black, Grey, Brown]            1  \n",
       "4           [Sexy, Elegant, 90s]         [Brown, Brown, Brown]            1  \n",
       "5           [Sexy, Elegant, 90s]                       [Black]            1  \n",
       "6           [Sexy, 90s, Elegant]                    [Red, Red]            1  \n",
       "7   [Romantic, Vintage, Elegant]         [Grey, Yellow, Brown]            2  \n",
       "8       [Sexy, Elegant, Outdoor]           [Blue, Brown, Grey]            1  \n",
       "9      [Sexy, Elegant, Business]  [Brown, Brown, Brown, White]            1  \n",
       "10      [Sexy, Elegant, Outdoor]     [Magenta, Brown, Magenta]            1  \n",
       "11     [Sexy, Elegant, Romantic]          [Grey, Brown, White]            2  \n",
       "12       [Sexy, Casual, Elegant]                [Brown, Brown]            1  \n",
       "13          [Sexy, 90s, Elegant]            [Grey, Grey, Grey]            1  \n",
       "14      [Sexy, Elegant, Outdoor]         [Brown, Magenta, Red]            1  \n",
       "15         [Sexy, 90s, Business]            [Magenta, Magenta]            1  \n",
       "16     [Elegant, Sexy, Business]                 [Grey, Black]            1  \n",
       "17          [Sexy, 90s, Elegant]                [Black, Black]            1  \n",
       "18      [Sexy, Elegant, Outdoor]           [Brown, Blue, Blue]            1  \n",
       "19     [Sexy, Elegant, Romantic]           [Black, Brown, Red]            2  \n",
       "20        [90s, Vintage, Casual]                [Brown, Brown]            1  "
      ]
     },
     "execution_count": 98,
     "metadata": {},
     "output_type": "execute_result"
    }
   ],
   "source": [
    "df.head(30)"
   ]
  },
  {
   "cell_type": "code",
   "execution_count": 99,
   "metadata": {},
   "outputs": [],
   "source": [
    "list_of_urls = list(df.sort_values(by = [\"match_score\"], ascending = False)[:9][\"URL\"])"
   ]
  },
  {
   "cell_type": "code",
   "execution_count": 100,
   "metadata": {},
   "outputs": [
    {
     "data": {
      "text/plain": [
       "['https://shop.iskandar.ml/IMAGES/fashion_12.jpg',\n",
       " 'https://shop.iskandar.ml/IMAGES/fashion_20.jpg',\n",
       " 'https://shop.iskandar.ml/IMAGES/fashion_8.jpg',\n",
       " 'https://shop.iskandar.ml/IMAGES/fashion_1.jpg',\n",
       " 'https://shop.iskandar.ml/IMAGES/fashion_19.jpg',\n",
       " 'https://shop.iskandar.ml/IMAGES/fashion_18.jpg',\n",
       " 'https://shop.iskandar.ml/IMAGES/fashion_17.jpg',\n",
       " 'https://shop.iskandar.ml/IMAGES/fashion_16.jpg',\n",
       " 'https://shop.iskandar.ml/IMAGES/fashion_15.jpg']"
      ]
     },
     "execution_count": 100,
     "metadata": {},
     "output_type": "execute_result"
    }
   ],
   "source": [
    "list(df.sort_values(by = [\"match_score\"], ascending = False)[:9][\"URL\"])"
   ]
  },
  {
   "cell_type": "code",
   "execution_count": 101,
   "metadata": {},
   "outputs": [
    {
     "data": {
      "text/html": [
       "<img src=\"https://shop.iskandar.ml/IMAGES/fashion_12.jpg\" width=\"100\" height=\"100\"/>"
      ],
      "text/plain": [
       "<IPython.core.display.Image object>"
      ]
     },
     "metadata": {},
     "output_type": "display_data"
    },
    {
     "data": {
      "text/html": [
       "<img src=\"https://shop.iskandar.ml/IMAGES/fashion_20.jpg\" width=\"100\" height=\"100\"/>"
      ],
      "text/plain": [
       "<IPython.core.display.Image object>"
      ]
     },
     "metadata": {},
     "output_type": "display_data"
    },
    {
     "data": {
      "text/html": [
       "<img src=\"https://shop.iskandar.ml/IMAGES/fashion_8.jpg\" width=\"100\" height=\"100\"/>"
      ],
      "text/plain": [
       "<IPython.core.display.Image object>"
      ]
     },
     "metadata": {},
     "output_type": "display_data"
    },
    {
     "data": {
      "text/html": [
       "<img src=\"https://shop.iskandar.ml/IMAGES/fashion_1.jpg\" width=\"100\" height=\"100\"/>"
      ],
      "text/plain": [
       "<IPython.core.display.Image object>"
      ]
     },
     "metadata": {},
     "output_type": "display_data"
    },
    {
     "data": {
      "text/html": [
       "<img src=\"https://shop.iskandar.ml/IMAGES/fashion_19.jpg\" width=\"100\" height=\"100\"/>"
      ],
      "text/plain": [
       "<IPython.core.display.Image object>"
      ]
     },
     "metadata": {},
     "output_type": "display_data"
    },
    {
     "data": {
      "text/html": [
       "<img src=\"https://shop.iskandar.ml/IMAGES/fashion_18.jpg\" width=\"100\" height=\"100\"/>"
      ],
      "text/plain": [
       "<IPython.core.display.Image object>"
      ]
     },
     "metadata": {},
     "output_type": "display_data"
    },
    {
     "data": {
      "text/html": [
       "<img src=\"https://shop.iskandar.ml/IMAGES/fashion_17.jpg\" width=\"100\" height=\"100\"/>"
      ],
      "text/plain": [
       "<IPython.core.display.Image object>"
      ]
     },
     "metadata": {},
     "output_type": "display_data"
    },
    {
     "data": {
      "text/html": [
       "<img src=\"https://shop.iskandar.ml/IMAGES/fashion_16.jpg\" width=\"100\" height=\"100\"/>"
      ],
      "text/plain": [
       "<IPython.core.display.Image object>"
      ]
     },
     "metadata": {},
     "output_type": "display_data"
    },
    {
     "data": {
      "text/html": [
       "<img src=\"https://shop.iskandar.ml/IMAGES/fashion_15.jpg\" width=\"100\" height=\"100\"/>"
      ],
      "text/plain": [
       "<IPython.core.display.Image object>"
      ]
     },
     "metadata": {},
     "output_type": "display_data"
    }
   ],
   "source": [
    "from IPython.display import Image\n",
    "from IPython.display import display\n",
    "\n",
    "for url in list_of_urls:\n",
    "    display(Image(url= url, width=100, height=100))\n",
    "    \n"
   ]
  },
  {
   "cell_type": "code",
   "execution_count": 72,
   "metadata": {},
   "outputs": [],
   "source": [
    "def post_face(filename):\n",
    "    # filename = {'filename': open(\"test_images/bryan.jpeg\", 'rb')}\n",
    "    filename = {'filename': open(\"../test_images/{}\".format(filename), 'rb')}\n",
    "    r = requests.post(FACE_API, files=filename, data=data)\n",
    "    content = json.loads(r.content)\n",
    "    return content"
   ]
  },
  {
   "cell_type": "code",
   "execution_count": 103,
   "metadata": {},
   "outputs": [],
   "source": [
    "face_result = post_face(\"bryan.jpeg\")"
   ]
  },
  {
   "cell_type": "code",
   "execution_count": 104,
   "metadata": {},
   "outputs": [
    {
     "data": {
      "text/plain": [
       "{'person': {'boundingBox': {'x': 43, 'y': 46, 'w': 376, 'h': 402},\n",
       "  'colors': [{'hex': '#472329',\n",
       "    'colorName': 'ivory_black',\n",
       "    'colorGeneralCategory': 'Black',\n",
       "    'ratio': 0.25},\n",
       "   {'hex': '#09090a',\n",
       "    'colorName': 'black',\n",
       "    'colorGeneralCategory': 'Black',\n",
       "    'ratio': 0.171875},\n",
       "   {'hex': '#d55c5e',\n",
       "    'colorName': 'tomato',\n",
       "    'colorGeneralCategory': 'Red',\n",
       "    'ratio': 0.296875},\n",
       "   {'hex': '#754147',\n",
       "    'colorName': 'raspberry',\n",
       "    'colorGeneralCategory': 'Red',\n",
       "    'ratio': 0.1875}],\n",
       "  'styles': [{'styleName': 'Sexy', 'confidence': 0.13779800298418468},\n",
       "   {'styleName': 'Vintage', 'confidence': 0.1280731070378828},\n",
       "   {'styleName': 'Romantic', 'confidence': 0.12571754325765225}],\n",
       "  'garments': [{'typeName': 'Tee',\n",
       "    'boundingBox': {'x': 43, 'y': 248, 'w': 362, 'h': 198},\n",
       "    'confidence': 0.8209508657455444}]}}"
      ]
     },
     "execution_count": 104,
     "metadata": {},
     "output_type": "execute_result"
    }
   ],
   "source": [
    "fashion_result "
   ]
  },
  {
   "cell_type": "code",
   "execution_count": null,
   "metadata": {},
   "outputs": [],
   "source": []
  }
 ],
 "metadata": {
  "kernelspec": {
   "display_name": "Python 3",
   "language": "python",
   "name": "python3"
  },
  "language_info": {
   "codemirror_mode": {
    "name": "ipython",
    "version": 3
   },
   "file_extension": ".py",
   "mimetype": "text/x-python",
   "name": "python",
   "nbconvert_exporter": "python",
   "pygments_lexer": "ipython3",
   "version": "3.7.0"
  }
 },
 "nbformat": 4,
 "nbformat_minor": 2
}
